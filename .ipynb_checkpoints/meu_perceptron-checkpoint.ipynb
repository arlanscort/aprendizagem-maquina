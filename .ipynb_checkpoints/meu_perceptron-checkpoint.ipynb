{
 "cells": [
  {
   "cell_type": "code",
   "execution_count": 19,
   "id": "2eb62d0e",
   "metadata": {},
   "outputs": [],
   "source": [
    "import numpy as np"
   ]
  },
  {
   "cell_type": "markdown",
   "id": "36c0bcd5",
   "metadata": {},
   "source": [
    "#### O problema XOR\n"
   ]
  },
  {
   "cell_type": "code",
   "execution_count": 71,
   "id": "60bdd02b",
   "metadata": {},
   "outputs": [],
   "source": [
    "import numpy as np\n",
    "\n",
    "def mlp_xor(x1, x2):\n",
    "\n",
    "    # N1,1\n",
    "    x11 = [1, x1, x2]\n",
    "    w11 = [-1.5, 1, 1]\n",
    "    out11 = 1 if np.dot(x11, w11) >= 0 else 0\n",
    "    \n",
    "    # N1,2\n",
    "    x12 = [1, x1, x2]\n",
    "    w12 = [-0.5, 1, 1]\n",
    "    out12 = 1 if np.dot(x12, w12) >= 0 else 0\n",
    "    \n",
    "    # N2,1\n",
    "    x21 = [1, out11, out12]\n",
    "    w21 = [-0.5, -1, 1]\n",
    "    out21 = 1 if np.dot(x21, w21) >= 0 else 0\n",
    "    \n",
    "    return out11, out12, out21"
   ]
  },
  {
   "cell_type": "code",
   "execution_count": 72,
   "id": "d21c38d3",
   "metadata": {},
   "outputs": [
    {
     "data": {
      "text/plain": [
       "(0, 0, 0)"
      ]
     },
     "execution_count": 72,
     "metadata": {},
     "output_type": "execute_result"
    }
   ],
   "source": [
    "mlp_xor(0,0)"
   ]
  },
  {
   "cell_type": "code",
   "execution_count": 73,
   "id": "2df14bef",
   "metadata": {},
   "outputs": [
    {
     "data": {
      "text/plain": [
       "(1, 1, 0)"
      ]
     },
     "execution_count": 73,
     "metadata": {},
     "output_type": "execute_result"
    }
   ],
   "source": [
    "mlp_xor(1,1)"
   ]
  },
  {
   "cell_type": "code",
   "execution_count": 74,
   "id": "8169d19a",
   "metadata": {},
   "outputs": [
    {
     "data": {
      "text/plain": [
       "(0, 1, 1)"
      ]
     },
     "execution_count": 74,
     "metadata": {},
     "output_type": "execute_result"
    }
   ],
   "source": [
    "mlp_xor(0,1)"
   ]
  },
  {
   "cell_type": "code",
   "execution_count": 75,
   "id": "a3dba88c",
   "metadata": {},
   "outputs": [
    {
     "data": {
      "text/plain": [
       "(0, 1, 1)"
      ]
     },
     "execution_count": 75,
     "metadata": {},
     "output_type": "execute_result"
    }
   ],
   "source": [
    "mlp_xor(1,0)"
   ]
  }
 ],
 "metadata": {
  "kernelspec": {
   "display_name": "Python 3 (ipykernel)",
   "language": "python",
   "name": "python3"
  },
  "language_info": {
   "codemirror_mode": {
    "name": "ipython",
    "version": 3
   },
   "file_extension": ".py",
   "mimetype": "text/x-python",
   "name": "python",
   "nbconvert_exporter": "python",
   "pygments_lexer": "ipython3",
   "version": "3.10.2"
  }
 },
 "nbformat": 4,
 "nbformat_minor": 5
}
